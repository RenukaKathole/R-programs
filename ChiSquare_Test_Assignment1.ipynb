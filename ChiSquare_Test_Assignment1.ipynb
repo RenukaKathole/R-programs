{
  "cells": [
    {
      "cell_type": "code",
      "execution_count": null,
      "id": "ccf75070",
      "metadata": {
        "id": "ccf75070"
      },
      "outputs": [],
      "source": [
        "import pandas as pd\n",
        "from scipy.stats import chi2_contingency, chi2"
      ]
    },
    {
      "cell_type": "code",
      "source": [
        "data = {\n",
        "    \"Smart Thermostat\": [50, 80, 60, 30, 20],\n",
        "    \"Smart Light\": [70, 100, 90, 50, 50]\n",
        "}\n",
        "satisfaction_levels = [\"Very Satisfied\", \"Satisfied\", \"Neutral\", \"Unsatisfied\", \"Very Unsatisfied\"]\n"
      ],
      "metadata": {
        "id": "60yFcSB4WeGc"
      },
      "id": "60yFcSB4WeGc",
      "execution_count": null,
      "outputs": []
    },
    {
      "cell_type": "code",
      "source": [
        "df_raw = pd.DataFrame(data, index=satisfaction_levels)"
      ],
      "metadata": {
        "id": "tR3-yHE7Wh6_"
      },
      "id": "tR3-yHE7Wh6_",
      "execution_count": null,
      "outputs": []
    },
    {
      "cell_type": "code",
      "source": [
        "df_display = df_raw.copy()\n",
        "df_display[\"Total\"] = df_display.sum(axis=1)\n",
        "df_totals = pd.DataFrame(df_display.sum(axis=0)).T\n",
        "df_totals.index = [\"Total\"]\n",
        "df_display = pd.concat([df_display, df_totals])\n"
      ],
      "metadata": {
        "id": "87Mic20pWlyg"
      },
      "id": "87Mic20pWlyg",
      "execution_count": null,
      "outputs": []
    },
    {
      "cell_type": "code",
      "source": [
        "print(\"Contingency Table with Totals:\\n\")\n",
        "print(f\"{'Satisfaction':<20} {'Smart Thermostat':>18} {'Smart Light':>13} {'Total':>8}\")\n",
        "for idx, row in df_display.iterrows():\n",
        "    print(f\"{idx:<20} {int(row['Smart Thermostat']):>18} {int(row['Smart Light']):>13} {int(row['Total']):>8}\")\n"
      ],
      "metadata": {
        "colab": {
          "base_uri": "https://localhost:8080/"
        },
        "id": "L_rlfPGHWqi3",
        "outputId": "42902ec8-e47b-46c7-d0df-837843f88cd9"
      },
      "id": "L_rlfPGHWqi3",
      "execution_count": null,
      "outputs": [
        {
          "output_type": "stream",
          "name": "stdout",
          "text": [
            "Contingency Table with Totals:\n",
            "\n",
            "Satisfaction           Smart Thermostat   Smart Light    Total\n",
            "Very Satisfied                       50            70      120\n",
            "Satisfied                            80           100      180\n",
            "Neutral                              60            90      150\n",
            "Unsatisfied                          30            50       80\n",
            "Very Unsatisfied                     20            50       70\n",
            "Total                               240           360      600\n"
          ]
        }
      ]
    },
    {
      "cell_type": "markdown",
      "source": [
        "Chi-Square Test\n"
      ],
      "metadata": {
        "id": "wIZ3Yp1VXbHk"
      },
      "id": "wIZ3Yp1VXbHk"
    },
    {
      "cell_type": "code",
      "source": [
        "chi2_stat, p_val, dof, expected = chi2_contingency(df_raw)\n",
        "\n",
        "print(\"\\nStep 2: Chi-Square Test Results\")\n",
        "print(f\"Chi-Square Statistic = {chi2_stat:.4f}\")\n",
        "print(f\"Degrees of Freedom = {dof}\")\n",
        "print(\"\\nExpected Frequencies:\")\n",
        "print(pd.DataFrame(expected, index=satisfaction_levels, columns=df_raw.columns))\n"
      ],
      "metadata": {
        "colab": {
          "base_uri": "https://localhost:8080/"
        },
        "id": "cVWO60omWtRc",
        "outputId": "fc8fd7b8-f00e-43ef-828e-3e989c7d9f91"
      },
      "id": "cVWO60omWtRc",
      "execution_count": null,
      "outputs": [
        {
          "output_type": "stream",
          "name": "stdout",
          "text": [
            "\n",
            "Step 2: Chi-Square Test Results\n",
            "Chi-Square Statistic = 5.6382\n",
            "Degrees of Freedom = 4\n",
            "\n",
            "Expected Frequencies:\n",
            "                  Smart Thermostat  Smart Light\n",
            "Very Satisfied                48.0         72.0\n",
            "Satisfied                     72.0        108.0\n",
            "Neutral                       60.0         90.0\n",
            "Unsatisfied                   32.0         48.0\n",
            "Very Unsatisfied              28.0         42.0\n"
          ]
        }
      ]
    },
    {
      "cell_type": "code",
      "source": [
        "alpha = 0.05\n",
        "critical_value = chi2.ppf(1 - alpha, dof)\n",
        "print(f\"\\nStep 3: Critical Value (alpha = 0.05): {critical_value:.4f}\")\n"
      ],
      "metadata": {
        "colab": {
          "base_uri": "https://localhost:8080/"
        },
        "id": "10TknvNYW5mS",
        "outputId": "e89f327e-d607-4ed9-9b1d-3ba7a960b1c3"
      },
      "id": "10TknvNYW5mS",
      "execution_count": null,
      "outputs": [
        {
          "output_type": "stream",
          "name": "stdout",
          "text": [
            "\n",
            "Step 3: Critical Value (alpha = 0.05): 9.4877\n"
          ]
        }
      ]
    },
    {
      "cell_type": "code",
      "source": [
        "print(\"\\nStep 4: Decision\")\n",
        "if chi2_stat > critical_value:\n",
        "    print(\"✅ Reject the null hypothesis.\")\n",
        "    print(\"There is a significant association between device type and customer satisfaction.\")\n",
        "else:\n",
        "    print(\"❌ Fail to reject the null hypothesis.\")\n",
        "    print(\"There is no significant association between device type and customer satisfaction.\")"
      ],
      "metadata": {
        "colab": {
          "base_uri": "https://localhost:8080/"
        },
        "id": "P1LQ-As2XKEZ",
        "outputId": "91ddf3bf-169e-491c-c151-6b351268027f"
      },
      "id": "P1LQ-As2XKEZ",
      "execution_count": null,
      "outputs": [
        {
          "output_type": "stream",
          "name": "stdout",
          "text": [
            "\n",
            "Step 4: Decision\n",
            "❌ Fail to reject the null hypothesis.\n",
            "There is no significant association between device type and customer satisfaction.\n"
          ]
        }
      ]
    }
  ],
  "metadata": {
    "colab": {
      "provenance": []
    },
    "language_info": {
      "name": "python"
    },
    "kernelspec": {
      "name": "python3",
      "display_name": "Python 3"
    }
  },
  "nbformat": 4,
  "nbformat_minor": 5
}