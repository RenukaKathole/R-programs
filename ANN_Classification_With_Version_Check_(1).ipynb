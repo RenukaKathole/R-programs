{
  "cells": [
    {
      "cell_type": "code",
      "execution_count": 17,
      "metadata": {
        "colab": {
          "base_uri": "https://localhost:8080/"
        },
        "id": "5OneGEI2hawa",
        "outputId": "98ee86f4-f927-4af0-c447-cb8bde38b52f"
      },
      "outputs": [
        {
          "output_type": "stream",
          "name": "stdout",
          "text": [
            "\u001b[33mWARNING: Skipping umap-learn as it is not installed.\u001b[0m\u001b[33m\n",
            "\u001b[0mRequirement already satisfied: scikit-learn==1.4.2 in /usr/local/lib/python3.11/dist-packages (1.4.2)\n",
            "Requirement already satisfied: scikeras==0.13.0 in /usr/local/lib/python3.11/dist-packages (0.13.0)\n",
            "Requirement already satisfied: numpy>=1.19.5 in /usr/local/lib/python3.11/dist-packages (from scikit-learn==1.4.2) (2.0.2)\n",
            "Requirement already satisfied: scipy>=1.6.0 in /usr/local/lib/python3.11/dist-packages (from scikit-learn==1.4.2) (1.15.3)\n",
            "Requirement already satisfied: joblib>=1.2.0 in /usr/local/lib/python3.11/dist-packages (from scikit-learn==1.4.2) (1.5.1)\n",
            "Requirement already satisfied: threadpoolctl>=2.0.0 in /usr/local/lib/python3.11/dist-packages (from scikit-learn==1.4.2) (3.6.0)\n",
            "Requirement already satisfied: keras>=3.2.0 in /usr/local/lib/python3.11/dist-packages (from scikeras==0.13.0) (3.8.0)\n",
            "Requirement already satisfied: absl-py in /usr/local/lib/python3.11/dist-packages (from keras>=3.2.0->scikeras==0.13.0) (1.4.0)\n",
            "Requirement already satisfied: rich in /usr/local/lib/python3.11/dist-packages (from keras>=3.2.0->scikeras==0.13.0) (13.9.4)\n",
            "Requirement already satisfied: namex in /usr/local/lib/python3.11/dist-packages (from keras>=3.2.0->scikeras==0.13.0) (0.1.0)\n",
            "Requirement already satisfied: h5py in /usr/local/lib/python3.11/dist-packages (from keras>=3.2.0->scikeras==0.13.0) (3.14.0)\n",
            "Requirement already satisfied: optree in /usr/local/lib/python3.11/dist-packages (from keras>=3.2.0->scikeras==0.13.0) (0.16.0)\n",
            "Requirement already satisfied: ml-dtypes in /usr/local/lib/python3.11/dist-packages (from keras>=3.2.0->scikeras==0.13.0) (0.4.1)\n",
            "Requirement already satisfied: packaging in /usr/local/lib/python3.11/dist-packages (from keras>=3.2.0->scikeras==0.13.0) (24.2)\n",
            "Requirement already satisfied: typing-extensions>=4.6.0 in /usr/local/lib/python3.11/dist-packages (from optree->keras>=3.2.0->scikeras==0.13.0) (4.14.1)\n",
            "Requirement already satisfied: markdown-it-py>=2.2.0 in /usr/local/lib/python3.11/dist-packages (from rich->keras>=3.2.0->scikeras==0.13.0) (3.0.0)\n",
            "Requirement already satisfied: pygments<3.0.0,>=2.13.0 in /usr/local/lib/python3.11/dist-packages (from rich->keras>=3.2.0->scikeras==0.13.0) (2.19.2)\n",
            "Requirement already satisfied: mdurl~=0.1 in /usr/local/lib/python3.11/dist-packages (from markdown-it-py>=2.2.0->rich->keras>=3.2.0->scikeras==0.13.0) (0.1.2)\n"
          ]
        }
      ],
      "source": [
        "!pip uninstall -y umap-learn\n",
        "!pip install scikit-learn==1.4.2 scikeras==0.13.0\n",
        "\n",
        "\n"
      ],
      "id": "5OneGEI2hawa"
    },
    {
      "cell_type": "code",
      "execution_count": 18,
      "metadata": {
        "colab": {
          "base_uri": "https://localhost:8080/"
        },
        "id": "VVYj24iBhawa",
        "outputId": "56505d92-8758-42aa-b4e2-2d2cf670c5d2"
      },
      "outputs": [
        {
          "output_type": "stream",
          "name": "stdout",
          "text": [
            "scikit-learn version: 1.4.2\n",
            "scikeras version: 0.13.0\n"
          ]
        }
      ],
      "source": [
        "import sklearn\n",
        "import scikeras\n",
        "print(\"scikit-learn version:\", sklearn.__version__)\n",
        "print(\"scikeras version:\", scikeras.__version__)"
      ],
      "id": "VVYj24iBhawa"
    },
    {
      "cell_type": "code",
      "execution_count": 19,
      "metadata": {
        "id": "gJ6B4d6_hawb"
      },
      "outputs": [],
      "source": [
        "import pandas as pd\n",
        "import numpy as np\n",
        "from sklearn.model_selection import train_test_split, GridSearchCV\n",
        "from sklearn.preprocessing import StandardScaler, LabelEncoder\n",
        "from sklearn.metrics import accuracy_score, precision_score, recall_score, f1_score, classification_report\n",
        "import tensorflow as tf\n",
        "from tensorflow import keras\n",
        "from tensorflow.keras.models import Sequential\n",
        "from tensorflow.keras.layers import Dense\n",
        "from scikeras.wrappers import KerasClassifier"
      ],
      "id": "gJ6B4d6_hawb"
    },
    {
      "cell_type": "code",
      "execution_count": 11,
      "metadata": {
        "id": "E-qCvz9uhawb"
      },
      "outputs": [],
      "source": [
        "# Load & preprocess data\n",
        "df = pd.read_csv(\"/content/Alphabets_data.csv\")\n",
        "if df.iloc[:, -1].dtype == 'object':\n",
        "    le = LabelEncoder()\n",
        "    df.iloc[:, -1] = le.fit_transform(df.iloc[:, -1])\n",
        "X = df.iloc[:, :-1]\n",
        "y = df.iloc[:, -1]\n",
        "non_numeric_cols = X.select_dtypes(include=['object']).columns\n",
        "if len(non_numeric_cols):\n",
        "    X[non_numeric_cols] = X[non_numeric_cols].apply(LabelEncoder().fit_transform)\n",
        "scaler = StandardScaler()\n",
        "X_scaled = scaler.fit_transform(X)\n",
        "X_train, X_test, y_train, y_test = train_test_split(X_scaled, y, test_size=0.2, random_state=42)"
      ],
      "id": "E-qCvz9uhawb"
    },
    {
      "cell_type": "code",
      "execution_count": 12,
      "metadata": {
        "id": "01JgbnuNhawb"
      },
      "outputs": [],
      "source": [
        "# Build ANN\n",
        "def create_model(hidden_layers=1, neurons=32, activation='relu', learning_rate=0.001):\n",
        "    model = Sequential()\n",
        "    model.add(keras.Input(shape=(X_train.shape[1],)))\n",
        "    model.add(Dense(neurons, activation=activation))\n",
        "    for _ in range(hidden_layers - 1):\n",
        "        model.add(Dense(neurons, activation=activation))\n",
        "    model.add(Dense(len(np.unique(y)), activation='softmax'))\n",
        "    optimizer = keras.optimizers.Adam(learning_rate=learning_rate)\n",
        "    model.compile(loss='sparse_categorical_crossentropy', optimizer=optimizer, metrics=['accuracy'])\n",
        "    return model"
      ],
      "id": "01JgbnuNhawb"
    },
    {
      "cell_type": "code",
      "execution_count": 13,
      "metadata": {
        "colab": {
          "base_uri": "https://localhost:8080/"
        },
        "id": "hchMPk4-hawb",
        "outputId": "b82674ff-381c-4cbf-f5f2-4e7398c534e1"
      },
      "outputs": [
        {
          "output_type": "stream",
          "name": "stdout",
          "text": [
            "\u001b[1m125/125\u001b[0m \u001b[32m━━━━━━━━━━━━━━━━━━━━\u001b[0m\u001b[37m\u001b[0m \u001b[1m0s\u001b[0m 2ms/step - accuracy: 0.5400 - loss: 1.1765\n",
            "Default Model Accuracy: 0.5600\n"
          ]
        }
      ],
      "source": [
        "# Train default model\n",
        "default_model = create_model()\n",
        "default_model.fit(X_train, y_train, epochs=20, batch_size=32, validation_split=0.2, verbose=0)\n",
        "loss, acc = default_model.evaluate(X_test, y_test)\n",
        "print(f\"Default Model Accuracy: {acc:.4f}\")"
      ],
      "id": "hchMPk4-hawb"
    },
    {
      "cell_type": "code",
      "source": [
        "from scikeras.wrappers import KerasClassifier\n"
      ],
      "metadata": {
        "id": "jp-foQJDmQoK"
      },
      "id": "jp-foQJDmQoK",
      "execution_count": 2,
      "outputs": []
    },
    {
      "cell_type": "code",
      "source": [
        "def create_model(hidden_layers=1, neurons=32, activation='relu', learning_rate=0.001):\n",
        "    model = keras.Sequential()\n",
        "    model.add(keras.Input(shape=(X_train.shape[1],)))\n",
        "    model.add(Dense(neurons, activation=activation))\n",
        "\n",
        "    for _ in range(hidden_layers - 1):\n",
        "        model.add(Dense(neurons, activation=activation))\n",
        "\n",
        "    model.add(Dense(len(np.unique(y_train)), activation='softmax'))\n",
        "\n",
        "    model.compile(\n",
        "        loss='sparse_categorical_crossentropy',\n",
        "        optimizer=keras.optimizers.Adam(learning_rate=learning_rate),\n",
        "        metrics=['accuracy']\n",
        "    )\n",
        "    return model\n"
      ],
      "metadata": {
        "id": "brCbdik5mi8_"
      },
      "id": "brCbdik5mi8_",
      "execution_count": 4,
      "outputs": []
    },
    {
      "cell_type": "code",
      "source": [
        "from sklearn.model_selection import GridSearchCV\n"
      ],
      "metadata": {
        "id": "Bbxk5rxvmvxP"
      },
      "id": "Bbxk5rxvmvxP",
      "execution_count": 6,
      "outputs": []
    },
    {
      "cell_type": "code",
      "source": [
        "# Assuming you already loaded your DataFrame as `df`\n",
        "from sklearn.model_selection import train_test_split\n",
        "from sklearn.preprocessing import LabelEncoder, StandardScaler\n",
        "\n",
        "# Encode label if needed\n",
        "if df.iloc[:, -1].dtype == 'object':\n",
        "    le = LabelEncoder()\n",
        "    df.iloc[:, -1] = le.fit_transform(df.iloc[:, -1])\n",
        "\n",
        "X = df.iloc[:, :-1]\n",
        "y = df.iloc[:, -1]\n",
        "\n",
        "# Encode non-numeric features in X\n",
        "non_numeric_cols = X.select_dtypes(include=['object']).columns\n",
        "if len(non_numeric_cols):\n",
        "    X[non_numeric_cols] = X[non_numeric_cols].apply(LabelEncoder().fit_transform)\n",
        "\n",
        "# Normalize\n",
        "scaler = StandardScaler()\n",
        "X_scaled = scaler.fit_transform(X)\n",
        "\n",
        "# Train-test split\n",
        "X_train, X_test, y_train, y_test = train_test_split(X_scaled, y, test_size=0.2, random_state=42)\n"
      ],
      "metadata": {
        "id": "jGcRMqgIna4_"
      },
      "id": "jGcRMqgIna4_",
      "execution_count": 14,
      "outputs": []
    },
    {
      "cell_type": "code",
      "execution_count": 15,
      "metadata": {
        "colab": {
          "base_uri": "https://localhost:8080/"
        },
        "id": "jEfsWVexhawb",
        "outputId": "c8460a66-d02c-49f3-97af-1f8171b99c81"
      },
      "outputs": [
        {
          "output_type": "stream",
          "name": "stdout",
          "text": [
            "Fitting 2 folds for each of 32 candidates, totalling 64 fits\n"
          ]
        },
        {
          "output_type": "stream",
          "name": "stderr",
          "text": [
            "/usr/local/lib/python3.11/dist-packages/sklearn/model_selection/_split.py:737: UserWarning: The least populated class in y has only 1 members, which is less than n_splits=2.\n",
            "  warnings.warn(\n"
          ]
        },
        {
          "output_type": "stream",
          "name": "stdout",
          "text": [
            "Best Hyperparameters: {'activation': 'tanh', 'batch_size': 32, 'epochs': 20, 'hidden_layers': 2, 'learning_rate': 0.01, 'neurons': 64}\n"
          ]
        }
      ],
      "source": [
        "# Grid search\n",
        "model = KerasClassifier(\n",
        "    model=create_model,\n",
        "    hidden_layers=1,\n",
        "    neurons=32,\n",
        "    activation='relu',\n",
        "    learning_rate=0.001,\n",
        "    epochs=20,\n",
        "    batch_size=32,\n",
        "    verbose=0\n",
        ")\n",
        "\n",
        "param_grid = {\n",
        "    'hidden_layers': [1, 2],\n",
        "    'neurons': [32, 64],\n",
        "    'activation': ['relu', 'tanh'],\n",
        "    'learning_rate': [0.001, 0.01],\n",
        "    'epochs': [20],\n",
        "    'batch_size': [32, 64]\n",
        "}\n",
        "\n",
        "grid = GridSearchCV(estimator=model, param_grid=param_grid, cv=2, verbose=1)\n",
        "grid_result = grid.fit(X_train, y_train)\n",
        "print(\"Best Hyperparameters:\", grid_result.best_params_)\n",
        "best_model = grid_result.best_estimator_\n",
        "y_pred = best_model.predict(X_test)"
      ],
      "id": "jEfsWVexhawb"
    },
    {
      "cell_type": "code",
      "execution_count": 16,
      "metadata": {
        "id": "x8thBHpjhawb",
        "colab": {
          "base_uri": "https://localhost:8080/"
        },
        "outputId": "71b6dbe6-8eb3-4859-bc0b-42cbc3375b88"
      },
      "outputs": [
        {
          "output_type": "stream",
          "name": "stdout",
          "text": [
            "              precision    recall  f1-score   support\n",
            "\n",
            "           0       0.00      0.00      0.00         1\n",
            "           1       0.20      0.25      0.22         4\n",
            "           2       0.00      0.00      0.00         6\n",
            "           3       0.50      0.23      0.31        31\n",
            "           4       0.54      0.35      0.43        94\n",
            "           5       0.53      0.48      0.51       196\n",
            "           6       0.51      0.56      0.54       353\n",
            "           7       0.61      0.54      0.57       712\n",
            "           8       0.78      0.84      0.81      1596\n",
            "           9       0.58      0.39      0.47       485\n",
            "          10       0.50      0.57      0.53       308\n",
            "          11       0.49      0.67      0.57       175\n",
            "          12       0.28      0.38      0.32        29\n",
            "          13       0.14      0.11      0.12         9\n",
            "          14       0.00      0.00      0.00         1\n",
            "          15       0.00      0.00      0.00         0\n",
            "\n",
            "    accuracy                           0.64      4000\n",
            "   macro avg       0.35      0.34      0.34      4000\n",
            "weighted avg       0.64      0.64      0.63      4000\n",
            "\n",
            "Accuracy: 0.64075\n",
            "F1 Score: 0.6345077747732639\n"
          ]
        },
        {
          "output_type": "stream",
          "name": "stderr",
          "text": [
            "/usr/local/lib/python3.11/dist-packages/sklearn/metrics/_classification.py:1509: UndefinedMetricWarning: Recall is ill-defined and being set to 0.0 in labels with no true samples. Use `zero_division` parameter to control this behavior.\n",
            "  _warn_prf(average, modifier, f\"{metric.capitalize()} is\", len(result))\n",
            "/usr/local/lib/python3.11/dist-packages/sklearn/metrics/_classification.py:1509: UndefinedMetricWarning: Recall is ill-defined and being set to 0.0 in labels with no true samples. Use `zero_division` parameter to control this behavior.\n",
            "  _warn_prf(average, modifier, f\"{metric.capitalize()} is\", len(result))\n",
            "/usr/local/lib/python3.11/dist-packages/sklearn/metrics/_classification.py:1509: UndefinedMetricWarning: Recall is ill-defined and being set to 0.0 in labels with no true samples. Use `zero_division` parameter to control this behavior.\n",
            "  _warn_prf(average, modifier, f\"{metric.capitalize()} is\", len(result))\n"
          ]
        }
      ],
      "source": [
        "# Evaluation\n",
        "from sklearn.metrics import classification_report\n",
        "print(classification_report(y_test, y_pred))\n",
        "print(\"Accuracy:\", accuracy_score(y_test, y_pred))\n",
        "print(\"F1 Score:\", f1_score(y_test, y_pred, average='weighted'))"
      ],
      "id": "x8thBHpjhawb"
    }
  ],
  "metadata": {
    "kernelspec": {
      "display_name": "Python 3",
      "language": "python",
      "name": "python3"
    },
    "language_info": {
      "name": "python",
      "version": ""
    },
    "colab": {
      "provenance": []
    }
  },
  "nbformat": 4,
  "nbformat_minor": 5
}